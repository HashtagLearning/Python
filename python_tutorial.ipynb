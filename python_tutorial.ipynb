{
  "nbformat": 4,
  "nbformat_minor": 0,
  "metadata": {
    "colab": {
      "name": "Untitled0.ipynb",
      "provenance": [],
      "include_colab_link": true
    },
    "kernelspec": {
      "name": "python3",
      "display_name": "Python 3"
    },
    "language_info": {
      "name": "python"
    }
  },
  "cells": [
    {
      "cell_type": "markdown",
      "metadata": {
        "id": "view-in-github",
        "colab_type": "text"
      },
      "source": [
        "<a href=\"https://colab.research.google.com/github/HashtagLearning/Python/blob/main/python_tutorial.ipynb\" target=\"_parent\"><img src=\"https://colab.research.google.com/assets/colab-badge.svg\" alt=\"Open In Colab\"/></a>"
      ]
    },
    {
      "cell_type": "code",
      "metadata": {
        "id": "Lnj2mMiBmcLl",
        "outputId": "2aefcfb2-2ee4-4d8c-befa-3ca429c8b70c",
        "colab": {
          "base_uri": "https://localhost:8080/"
        }
      },
      "source": [
        "print(\"hello world\")"
      ],
      "execution_count": 1,
      "outputs": [
        {
          "output_type": "stream",
          "text": [
            "hello world\n"
          ],
          "name": "stdout"
        }
      ]
    },
    {
      "cell_type": "markdown",
      "metadata": {
        "id": "ZJnRXeZTnez6"
      },
      "source": [
        "arthmetic.py"
      ]
    },
    {
      "cell_type": "code",
      "metadata": {
        "id": "RhFSdWiWnhca",
        "outputId": "437c26dc-a53a-4ce5-9256-78efe37e50e6",
        "colab": {
          "base_uri": "https://localhost:8080/"
        }
      },
      "source": [
        "# +, -, /,*\n",
        "\n",
        "# add\n",
        "add = 5+5\n",
        "a1 = 5\n",
        "a2 = 5\n",
        "a3 = a1 + a2\n",
        "print(add, a3)\n",
        "\n",
        "#sub\n",
        "sub = 4-4\n",
        "b1 = 4\n",
        "b2 = 4\n",
        "b3 = b1 - b2\n",
        "print(sub, b3)\n",
        "\n",
        "# saquib mul\n",
        "\n",
        "#mul \n",
        "mul = 3*4\n",
        "c1 = 3\n",
        "c2 = 4\n",
        "c3 = c1*c2\n",
        "print (mul, c3)\n",
        "\n",
        "#div\n",
        "div = 3/4\n",
        "d1 = 3\n",
        "d2 = 4\n",
        "d3 = d1*d2\n",
        "print (div, d3)\n",
        "\n",
        "#power\n",
        "print(2**200)\n",
        "\n",
        "#modules\n",
        "print(5/2, 4/2)\n"
      ],
      "execution_count": 3,
      "outputs": [
        {
          "output_type": "stream",
          "text": [
            "10 10\n",
            "0 0\n",
            "12 12\n",
            "0.75 12\n",
            "1606938044258990275541962092341162602522202993782792835301376\n",
            "2.5 2.0\n"
          ],
          "name": "stdout"
        }
      ]
    },
    {
      "cell_type": "markdown",
      "metadata": {
        "id": "ipbqQdmQnp9R"
      },
      "source": [
        "condition.py"
      ]
    },
    {
      "cell_type": "code",
      "metadata": {
        "id": "A8cAHsU8nvmv"
      },
      "source": [
        ""
      ],
      "execution_count": null,
      "outputs": []
    }
  ]
}